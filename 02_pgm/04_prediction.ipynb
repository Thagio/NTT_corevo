{
 "cells": [
  {
   "cell_type": "code",
   "execution_count": 1,
   "metadata": {},
   "outputs": [
    {
     "data": {
      "text/html": [
       "<style>.container{width:100%!important;}</style>"
      ],
      "text/plain": [
       "<IPython.core.display.HTML object>"
      ]
     },
     "metadata": {},
     "output_type": "display_data"
    }
   ],
   "source": [
    "# jupyter-notebookのcellの幅を広げる\n",
    "from IPython.core.display import display,HTML\n",
    "display(HTML(\"<style>.container{width:100%!important;}</style>\"))"
   ]
  },
  {
   "cell_type": "code",
   "execution_count": 2,
   "metadata": {},
   "outputs": [
    {
     "name": "stderr",
     "output_type": "stream",
     "text": [
      "Using TensorFlow backend.\n"
     ]
    }
   ],
   "source": [
    "# ライブラリの読み込み\n",
    "# ライブラリの読み込み\n",
    "import numpy as np\n",
    "import pandas as pd\n",
    "import matplotlib.pyplot as plt\n",
    "import librosa\n",
    "import librosa.display # 波形のプロットに必要\n",
    "import IPython.display as ipd #jupyter-notebook上で音声再生\n",
    "import glob\n",
    "import re\n",
    "import seaborn as sns\n",
    "import pickle\n",
    "import scipy.signal as ss\n",
    "import os\n",
    "\n",
    "# keras\n",
    "import keras\n",
    "#from keras.datasets import mnist\n",
    "from keras.models import Sequential,load_model\n",
    "from keras.layers import Dense, Dropout, Flatten,Activation\n",
    "from keras.layers import Conv2D, MaxPooling2D,BatchNormalization\n",
    "from keras.optimizers import Adam\n",
    "from keras import backend as K\n",
    "from sklearn.model_selection import train_test_split\n",
    "from sklearn.metrics import confusion_matrix\n",
    "from sklearn.metrics import accuracy_score\n",
    "from keras.callbacks import ModelCheckpoint,EarlyStopping"
   ]
  },
  {
   "cell_type": "code",
   "execution_count": 3,
   "metadata": {},
   "outputs": [],
   "source": [
    "# ユーティリティ関数の読み込み\n",
    "from Util import NormalizeHorizontalDirection\n",
    "from Util import DefineModel\n",
    "#from Util import SpectrogramDataGenerator\n",
    "\n",
    "%matplotlib inline"
   ]
  },
  {
   "cell_type": "code",
   "execution_count": 4,
   "metadata": {},
   "outputs": [],
   "source": [
    "# 作業ディレクトリの設定\n",
    "os.chdir(\"/home/taichi/DataAnalysis/05_NTT_corevo\")"
   ]
  },
  {
   "cell_type": "code",
   "execution_count": 5,
   "metadata": {},
   "outputs": [],
   "source": [
    "# ラベルをintegerに変換するdictを読み込み\n",
    "with open(\"03_work/label2int.pickle\",\"rb\") as f:\n",
    "    label2int = pickle.load(f)"
   ]
  },
  {
   "cell_type": "code",
   "execution_count": 6,
   "metadata": {},
   "outputs": [],
   "source": [
    "int2label = {v:k for k,v in label2int.items()}"
   ]
  },
  {
   "cell_type": "code",
   "execution_count": 7,
   "metadata": {},
   "outputs": [
    {
     "data": {
      "text/plain": [
       "{0: 'FE_AD', 1: 'FE_CH', 2: 'FE_EL', 3: 'MA_AD', 4: 'MA_CH', 5: 'MA_EL'}"
      ]
     },
     "execution_count": 7,
     "metadata": {},
     "output_type": "execute_result"
    }
   ],
   "source": [
    "int2label"
   ]
  },
  {
   "cell_type": "code",
   "execution_count": 8,
   "metadata": {},
   "outputs": [],
   "source": [
    "# テストデータの情報を読み込み\n",
    "test_info = pd.read_csv(\"03_work/test_time_distribution.csv\")\n",
    "test_info[\"savepath\"] = \"03_work/test_spectrogram/\" + test_info[\"filename\"] + \".pickle\""
   ]
  },
  {
   "cell_type": "code",
   "execution_count": 9,
   "metadata": {},
   "outputs": [
    {
     "data": {
      "text/html": [
       "<div>\n",
       "<style scoped>\n",
       "    .dataframe tbody tr th:only-of-type {\n",
       "        vertical-align: middle;\n",
       "    }\n",
       "\n",
       "    .dataframe tbody tr th {\n",
       "        vertical-align: top;\n",
       "    }\n",
       "\n",
       "    .dataframe thead th {\n",
       "        text-align: right;\n",
       "    }\n",
       "</style>\n",
       "<table border=\"1\" class=\"dataframe\">\n",
       "  <thead>\n",
       "    <tr style=\"text-align: right;\">\n",
       "      <th></th>\n",
       "      <th>filepath</th>\n",
       "      <th>filename</th>\n",
       "      <th>time</th>\n",
       "      <th>savepath</th>\n",
       "    </tr>\n",
       "  </thead>\n",
       "  <tbody>\n",
       "    <tr>\n",
       "      <th>0</th>\n",
       "      <td>01_input/ntt_corevo/test/cd3bcd8851fe5104f8733...</td>\n",
       "      <td>cd3bcd8851fe5104f8733f6a986dff93</td>\n",
       "      <td>9.040000</td>\n",
       "      <td>03_work/test_spectrogram/cd3bcd8851fe5104f8733...</td>\n",
       "    </tr>\n",
       "    <tr>\n",
       "      <th>1</th>\n",
       "      <td>01_input/ntt_corevo/test/6b8ef99a30325b32c5eea...</td>\n",
       "      <td>6b8ef99a30325b32c5eea1203fc5faa7</td>\n",
       "      <td>2.250023</td>\n",
       "      <td>03_work/test_spectrogram/6b8ef99a30325b32c5eea...</td>\n",
       "    </tr>\n",
       "    <tr>\n",
       "      <th>2</th>\n",
       "      <td>01_input/ntt_corevo/test/81ec9938d1cb7a7e3040d...</td>\n",
       "      <td>81ec9938d1cb7a7e3040df1d61a85ca1</td>\n",
       "      <td>10.340000</td>\n",
       "      <td>03_work/test_spectrogram/81ec9938d1cb7a7e3040d...</td>\n",
       "    </tr>\n",
       "    <tr>\n",
       "      <th>3</th>\n",
       "      <td>01_input/ntt_corevo/test/d42bce65590d7aa68a959...</td>\n",
       "      <td>d42bce65590d7aa68a95932cd9a7c1ef</td>\n",
       "      <td>6.530023</td>\n",
       "      <td>03_work/test_spectrogram/d42bce65590d7aa68a959...</td>\n",
       "    </tr>\n",
       "    <tr>\n",
       "      <th>4</th>\n",
       "      <td>01_input/ntt_corevo/test/55a0aac23227acb984dc3...</td>\n",
       "      <td>55a0aac23227acb984dc3db409c1416a</td>\n",
       "      <td>3.270023</td>\n",
       "      <td>03_work/test_spectrogram/55a0aac23227acb984dc3...</td>\n",
       "    </tr>\n",
       "  </tbody>\n",
       "</table>\n",
       "</div>"
      ],
      "text/plain": [
       "                                            filepath  \\\n",
       "0  01_input/ntt_corevo/test/cd3bcd8851fe5104f8733...   \n",
       "1  01_input/ntt_corevo/test/6b8ef99a30325b32c5eea...   \n",
       "2  01_input/ntt_corevo/test/81ec9938d1cb7a7e3040d...   \n",
       "3  01_input/ntt_corevo/test/d42bce65590d7aa68a959...   \n",
       "4  01_input/ntt_corevo/test/55a0aac23227acb984dc3...   \n",
       "\n",
       "                           filename       time  \\\n",
       "0  cd3bcd8851fe5104f8733f6a986dff93   9.040000   \n",
       "1  6b8ef99a30325b32c5eea1203fc5faa7   2.250023   \n",
       "2  81ec9938d1cb7a7e3040df1d61a85ca1  10.340000   \n",
       "3  d42bce65590d7aa68a95932cd9a7c1ef   6.530023   \n",
       "4  55a0aac23227acb984dc3db409c1416a   3.270023   \n",
       "\n",
       "                                            savepath  \n",
       "0  03_work/test_spectrogram/cd3bcd8851fe5104f8733...  \n",
       "1  03_work/test_spectrogram/6b8ef99a30325b32c5eea...  \n",
       "2  03_work/test_spectrogram/81ec9938d1cb7a7e3040d...  \n",
       "3  03_work/test_spectrogram/d42bce65590d7aa68a959...  \n",
       "4  03_work/test_spectrogram/55a0aac23227acb984dc3...  "
      ]
     },
     "execution_count": 9,
     "metadata": {},
     "output_type": "execute_result"
    }
   ],
   "source": [
    "test_info.head()"
   ]
  },
  {
   "cell_type": "code",
   "execution_count": 10,
   "metadata": {},
   "outputs": [],
   "source": [
    "X_test_for_submit = np.array(test_info[\"savepath\"])"
   ]
  },
  {
   "cell_type": "code",
   "execution_count": 11,
   "metadata": {},
   "outputs": [],
   "source": [
    "## テストデータに対する仮のラベル\n",
    "y_test_for_submit = np.repeat(\"FE_AD\",len(X_test_for_submit))"
   ]
  },
  {
   "cell_type": "code",
   "execution_count": 12,
   "metadata": {},
   "outputs": [
    {
     "data": {
      "text/plain": [
       "(17888, 4)"
      ]
     },
     "execution_count": 12,
     "metadata": {},
     "output_type": "execute_result"
    }
   ],
   "source": [
    "test_info.shape"
   ]
  },
  {
   "cell_type": "code",
   "execution_count": 13,
   "metadata": {},
   "outputs": [],
   "source": [
    "# スペクトログラム(入力データ)のサイズ\n",
    "input_shape = (513,300,1)\n",
    "\n",
    "num_classes = len(label2int.keys())"
   ]
  },
  {
   "cell_type": "code",
   "execution_count": 14,
   "metadata": {},
   "outputs": [
    {
     "data": {
      "text/plain": [
       "6"
      ]
     },
     "execution_count": 14,
     "metadata": {},
     "output_type": "execute_result"
    }
   ],
   "source": [
    "num_classes"
   ]
  },
  {
   "cell_type": "code",
   "execution_count": 15,
   "metadata": {},
   "outputs": [],
   "source": [
    "# モデルを定義\n",
    "model = DefineModel(input_shape,num_classes)"
   ]
  },
  {
   "cell_type": "code",
   "execution_count": 16,
   "metadata": {},
   "outputs": [],
   "source": [
    "# validationデータに対するLossが最も小さかったベストモデルの読み込み\n",
    "model = load_model(\"03_work/models/cnn_model_01.h5\")"
   ]
  },
  {
   "cell_type": "code",
   "execution_count": 17,
   "metadata": {},
   "outputs": [],
   "source": [
    "# データのジェネレータを定義\n",
    "class SpectrogramDataGenerator(object):\n",
    "    def __init__(self):\n",
    "        self.reset()\n",
    "\n",
    "    def reset(self):\n",
    "        self.spectrograms = []\n",
    "        self.labels = []\n",
    "        \n",
    "    def zero_padding(self,spectral,thre):\n",
    "        n_row = spectral.shape[1]\n",
    "        if n_row >= thre :\n",
    "            spectral_pad = spectral[:,0:thre]\n",
    "        else:\n",
    "            spectral_pad = np.pad(spectral,((0,0),(0,thre - n_row)),\"constant\")\n",
    "        return(spectral_pad)\n",
    "        \n",
    "    def GenerateBatch(self,X,y,speaker_dict,time_len = 300,batch_size = 10,shuffle = True,margin_ms = 0):\n",
    "        num_classes = len(speaker_dict.keys())\n",
    "        while True:\n",
    "            if shuffle:\n",
    "                indexes = np.random.permutation(len(X))\n",
    "                X = X[indexes]\n",
    "                y = y[indexes]\n",
    "\n",
    "            for tmp_X,tmp_y in zip(X,y):\n",
    "                with open(tmp_X,\"rb\") as f:\n",
    "                    fr,t,spectral = pickle.load(f)\n",
    "                if (spectral.shape[1] - time_len) <= 0:\n",
    "                    lb_ms = 0\n",
    "                    ub_ms = spectral.shape[1]#\n",
    "                    #np.random.randint(margin_ms,spectral.shape[1])\n",
    "                else:\n",
    "                    lb_ms = np.random.randint(margin_ms,spectral.shape[1] - time_len)\n",
    "                    ub_ms = lb_ms + time_len\n",
    "\n",
    "                #周波数方向に正規化\n",
    "                spectral_norm = NormalizeHorizontalDirection(spectral[:,lb_ms:ub_ms])\n",
    "                # thre 以下の場合はpadding\n",
    "                spectral_norm = self.zero_padding(spectral_norm,time_len)\n",
    "                target = speaker_dict[tmp_y]\n",
    "                \n",
    "                self.spectrograms.append(spectral_norm)\n",
    "                self.labels.append(target)\n",
    "\n",
    "                if len(self.labels) == batch_size:\n",
    "                    inputs = np.asarray(self.spectrograms, dtype=np.float32).reshape(batch_size,\n",
    "                                                                                   spectral_norm.shape[0],\n",
    "                                                                                    spectral_norm.shape[1],1)\n",
    "                    targets = np.asarray(self.labels, dtype=np.float32)\n",
    "                    self.reset()\n",
    "                    yield (inputs,targets)\n"
   ]
  },
  {
   "cell_type": "code",
   "execution_count": 18,
   "metadata": {},
   "outputs": [],
   "source": [
    "# ラベルを予測\n",
    "\n",
    "# ジェネレータを生成\n",
    "test_datagen = SpectrogramDataGenerator()\n",
    "\n",
    "BATCH_SIZE = 1\n",
    "N_MULTI = 1\n",
    "\n",
    "y_pred_for_submit = model.predict_generator(generator = \n",
    "                              test_datagen.GenerateBatch(X_test_for_submit,\n",
    "                                                         y_test_for_submit,\n",
    "                                                         label2int,\n",
    "                                                         batch_size= BATCH_SIZE,\n",
    "                                                         shuffle = False),\n",
    "                                 steps=int(np.ceil(len(X_test_for_submit) * N_MULTI/BATCH_SIZE)))"
   ]
  },
  {
   "cell_type": "code",
   "execution_count": 19,
   "metadata": {},
   "outputs": [
    {
     "data": {
      "text/plain": [
       "array([4, 4, 3, ..., 2, 1, 3])"
      ]
     },
     "execution_count": 19,
     "metadata": {},
     "output_type": "execute_result"
    }
   ],
   "source": [
    "np.argmax(y_pred_for_submit,axis = 1)"
   ]
  },
  {
   "cell_type": "code",
   "execution_count": 20,
   "metadata": {},
   "outputs": [],
   "source": [
    "# np.argmaxで予測ラベルを作成\n",
    "y_pred_label = [int2label[l] for l in np.argmax(y_pred_for_submit,axis = 1)]"
   ]
  },
  {
   "cell_type": "code",
   "execution_count": 21,
   "metadata": {},
   "outputs": [],
   "source": [
    "# 提出用形式で出力\n",
    "# TSV形式でヘッダーはなし\n",
    "# 17888行\n",
    "\n",
    "test_info[\"pred_label\"] = y_pred_label\n",
    "\n",
    "test_info.loc[:,[\"filename\",\"pred_label\"]].sort_values(\"filename\")\\\n",
    "                                          .to_csv(\"04_output/submit.tsv\",\n",
    "                                                  sep = \"\\t\",\n",
    "                                                  index = False,\n",
    "                                                  header = False)\n"
   ]
  }
 ],
 "metadata": {
  "kernelspec": {
   "display_name": "Python 3",
   "language": "python",
   "name": "python3"
  },
  "language_info": {
   "codemirror_mode": {
    "name": "ipython",
    "version": 3
   },
   "file_extension": ".py",
   "mimetype": "text/x-python",
   "name": "python",
   "nbconvert_exporter": "python",
   "pygments_lexer": "ipython3",
   "version": "3.6.7"
  }
 },
 "nbformat": 4,
 "nbformat_minor": 2
}
