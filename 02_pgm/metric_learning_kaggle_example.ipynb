{
 "cells": [
  {
   "cell_type": "code",
   "execution_count": 1,
   "metadata": {},
   "outputs": [],
   "source": [
    "# ライブラリの読み込み"
   ]
  },
  {
   "cell_type": "code",
   "execution_count": 1,
   "metadata": {},
   "outputs": [
    {
     "name": "stderr",
     "output_type": "stream",
     "text": [
      "Using TensorFlow backend.\n"
     ]
    },
    {
     "name": "stdout",
     "output_type": "stream",
     "text": [
      "__________________________________________________________________________________________________\n",
      "Layer (type)                    Output Shape         Param #     Connected to                     \n",
      "==================================================================================================\n",
      "input_1 (InputLayer)            (None, 229, 229, 3)  0                                            \n",
      "__________________________________________________________________________________________________\n",
      "input_2 (InputLayer)            (None, 229, 229, 3)  0                                            \n",
      "__________________________________________________________________________________________________\n",
      "input_3 (InputLayer)            (None, 229, 229, 3)  0                                            \n",
      "__________________________________________________________________________________________________\n",
      "xception (Model)                (None, 7, 7, 2048)   20861480    input_1[0][0]                    \n",
      "                                                                 input_2[0][0]                    \n",
      "                                                                 input_3[0][0]                    \n",
      "__________________________________________________________________________________________________\n",
      "global_max_pooling2d_1 (GlobalM (None, 2048)         0           xception[1][0]                   \n",
      "__________________________________________________________________________________________________\n",
      "global_max_pooling2d_2 (GlobalM (None, 2048)         0           xception[2][0]                   \n",
      "__________________________________________________________________________________________________\n",
      "global_max_pooling2d_3 (GlobalM (None, 2048)         0           xception[3][0]                   \n",
      "__________________________________________________________________________________________________\n",
      "subtract_1 (Subtract)           (None, 2048)         0           global_max_pooling2d_1[0][0]     \n",
      "                                                                 global_max_pooling2d_2[0][0]     \n",
      "__________________________________________________________________________________________________\n",
      "subtract_2 (Subtract)           (None, 2048)         0           global_max_pooling2d_1[0][0]     \n",
      "                                                                 global_max_pooling2d_3[0][0]     \n",
      "__________________________________________________________________________________________________\n",
      "lambda_1 (Lambda)               (None, 2048)         0           subtract_1[0][0]                 \n",
      "__________________________________________________________________________________________________\n",
      "lambda_2 (Lambda)               (None, 2048)         0           subtract_2[0][0]                 \n",
      "__________________________________________________________________________________________________\n",
      "summation (Dense)               (None, 1)            2049        lambda_1[0][0]                   \n",
      "                                                                 lambda_2[0][0]                   \n",
      "__________________________________________________________________________________________________\n",
      "concatenate_1 (Concatenate)     (None, 2)            0           summation[0][0]                  \n",
      "                                                                 summation[1][0]                  \n",
      "__________________________________________________________________________________________________\n",
      "activation_1 (Activation)       (None, 2)            0           concatenate_1[0][0]              \n",
      "==================================================================================================\n",
      "Total params: 20,863,529\n",
      "Trainable params: 20,809,001\n",
      "Non-trainable params: 54,528\n",
      "__________________________________________________________________________________________________\n",
      "fixing weights of summation layer\n"
     ]
    }
   ],
   "source": [
    "#  triplet networks can explicitely learn similarity between inputs:\n",
    "#  -> Hoffer, Elad, and Nir Ailon. \"Deep metric learning using triplet network.\" International Workshop on Similarity-Based Pattern Recognition. Springer, Cham, 2015.\n",
    "\n",
    "# Here is a script for loading pretrained models in keras to finetune them in a triplet network setting\n",
    "from keras.layers import Input,Lambda,subtract,GlobalMaxPooling2D,Dense,GlobalAveragePooling2D,concatenate,Activation\n",
    "from keras.applications.xception import Xception as Net\n",
    "from keras.preprocessing import image\n",
    "from keras.applications.xception import preprocess_input\n",
    "from keras.models import Model\n",
    "\n",
    "import numpy as np\n",
    "import cv2\n",
    "import matplotlib.pyplot as plt\n",
    "\n",
    "#-----------------------\n",
    "# create model\n",
    "#-----------------------\n",
    "def create_model(d1,d2):\n",
    "    # The triplet network takes 3 input images: 2 of the same class and 1 out-of-class sample\n",
    "    input_tensor1 = Input(shape=(d1, d2, 3))\n",
    "    input_tensor2 = Input(shape=(d1, d2, 3))\n",
    "    input_tensor3 = Input(shape=(d1, d2, 3))\n",
    "    # load a pretrained model (try, except block because the kernel would not let me download the weights for the network)\n",
    "    try:\n",
    "        base_model = Net(input_shape=(d1,d2,3),weights='imagenet',include_top=False)\n",
    "    except:\n",
    "        print('Could not download weights. Using random initialization...')\n",
    "        base_model = Net(input_shape=(d1,d2,3),weights=None,include_top=False)\n",
    "    # predefine a summation layer for calculating the distances:\n",
    "    # the weights of this layer will be set to ones and fixed  (since they\n",
    "    # are shared we could also leave them trainable to get a weighted sum)\n",
    "    summation = Dense(1,activation='linear',kernel_initializer='ones',bias_initializer='zeros',name='summation')\n",
    "    # feed all 3 inputs into the pretrained keras model\n",
    "    x1 = base_model(input_tensor1)\n",
    "    x2 = base_model(input_tensor2)\n",
    "    x3 = base_model(input_tensor3)\n",
    "    # flatten/summarize the models output:\n",
    "    # (here we could also use GlobalAveragePooling or simply Flatten everything)\n",
    "    x1 = GlobalMaxPooling2D()(x1)\n",
    "    x2 = GlobalMaxPooling2D()(x2)\n",
    "    x3 = GlobalMaxPooling2D()(x3)\n",
    "    # calculate something proportional to the euclidean distance\n",
    "    #   a-b\n",
    "    d1 = subtract([x1,x2])\n",
    "    d2 = subtract([x1,x3])\n",
    "    #   (a-b)**2\n",
    "    d1 = Lambda(lambda val: val**2)(d1)\n",
    "    d2 = Lambda(lambda val: val**2)(d2)\n",
    "    # sum((a-b)**2)\n",
    "    d1 = summation(d1)\n",
    "    d2 = summation(d2)\n",
    "    #  concatenate both distances and apply softmax so we get values from 0-1\n",
    "    d = concatenate([d1,d2])\n",
    "    d = Activation('softmax')(d)\n",
    "    # build the model and show a summary\n",
    "    model = Model(inputs=[input_tensor1,input_tensor2,input_tensor3], outputs=d)\n",
    "    # a second model that can be used as metric between input 1 and input 2\n",
    "    metric = Model(inputs=[input_tensor1,input_tensor2], outputs=d1)\n",
    "    model.summary()\n",
    "    # draw the network (it looks quite nice)\n",
    "    try:\n",
    "        from keras.utils.vis_utils import plot_model as plot\n",
    "        plot(model, to_file = 'Triplet_Dense121.png')\n",
    "    except ImportError:\n",
    "        print('It seems like the dependencies for drawing the model (pydot, graphviz) are not installed')\n",
    "    # fix the weights of the summation layer (since the weight of this layer\n",
    "    # are shared we could also leave them trainable to get a weighted sum)\n",
    "    for l in model.layers:\n",
    "        if l.name == 'summation':\n",
    "            print('fixing weights of summation layer')\n",
    "            l.trainable=False\n",
    "    # compile model\n",
    "    model.compile(optimizer='sgd', loss='categorical_crossentropy')\n",
    "        \n",
    "    return model,metric\n",
    "    \n",
    "triplet_model,metric = create_model(229,229)\n",
    "\n",
    "# now we just use \"triplet_model\" to finetune the weights and \"metric\" to get the similarity between two inputs\n",
    "# Input:    2 different samples of the same class, 1 sample from a different class\n",
    "#           The difference between input 1 and the same-class sample should be smaller than the difference between\n",
    "#           input 1 and the different-class sample\n",
    "\n",
    "# utility function for creating images with simple shapes\n",
    "def create_im(imtype = 'circle'):\n",
    "    im = np.zeros((229,229,3),dtype=np.float32)\n",
    "    if imtype == 'circle':\n",
    "        center = (np.random.randint(10,209,1)[0],np.random.randint(10,209,1)[0])\n",
    "        radius = np.random.randint(10,60,1)[0]\n",
    "        cv2.circle(im,center,radius,(0,255,0),-1)\n",
    "    elif imtype == 'rectangle':\n",
    "        x,y = np.random.randint(10,209,1)[0],np.random.randint(10,209,1)[0]\n",
    "        w,h = np.random.randint(10,60,1)[0],np.random.randint(10,60,1)[0]\n",
    "        cv2.rectangle(im,(x,y),(x+w,y+h),(0,0,255),-1)\n",
    "    im = im.reshape(1,229,229,3)\n",
    "    return preprocess_input(im)\n",
    "\n",
    "# utility function for scaling input to image range\n",
    "def scale_img(x):\n",
    "    x = np.float32(x)\n",
    "    x-=np.nanmin(x)\n",
    "    if np.nanmax(x)!=0:\n",
    "        x/=np.nanmax(x)\n",
    "    return np.uint8(255*x)\n"
   ]
  },
  {
   "cell_type": "code",
   "execution_count": 6,
   "metadata": {},
   "outputs": [],
   "source": [
    "im1 = create_im()\n",
    "im2 = create_im()\n",
    "im3 = create_im(imtype = 'rectangle')\n",
    "\n",
    "distances = triplet_model.predict([im1,im2,im3])[0]"
   ]
  },
  {
   "cell_type": "code",
   "execution_count": 18,
   "metadata": {},
   "outputs": [
    {
     "data": {
      "text/plain": [
       "array([[1., 0.]], dtype=float32)"
      ]
     },
     "execution_count": 18,
     "metadata": {},
     "output_type": "execute_result"
    }
   ],
   "source": [
    "triplet_model.predict([im1,im2,im3])"
   ]
  },
  {
   "cell_type": "code",
   "execution_count": 20,
   "metadata": {},
   "outputs": [
    {
     "name": "stdout",
     "output_type": "stream",
     "text": [
      "[0. 1.]\n"
     ]
    },
    {
     "data": {
      "image/png": "[encoded data removed]",
      "text/plain": [
       "<Figure size 432x288 with 3 Axes>"
      ]
     },
     "metadata": {
      "needs_background": "light"
     },
     "output_type": "display_data"
    },
    {
     "name": "stdout",
     "output_type": "stream",
     "text": [
      "[0. 1.]\n",
      "[0. 1.]\n",
      "[0. 1.]\n"
     ]
    },
    {
     "data": {
      "image/png": "[encoded data removed]",
      "text/plain": [
       "<Figure size 432x288 with 9 Axes>"
      ]
     },
     "metadata": {
      "needs_background": "light"
     },
     "output_type": "display_data"
    }
   ],
   "source": [
    "%matplotlib inline\n",
    "# Test on some dummy images:\n",
    "for k in range(4):\n",
    "    im1 = create_im()\n",
    "    im2 = create_im()\n",
    "    im3 = create_im(imtype = 'rectangle')\n",
    "    \n",
    "    distances = triplet_model.predict([im1,im2,im3])[0]\n",
    "    print(distances)\n",
    "\n",
    "    plt.subplot(4,3,(k*3)+1)\n",
    "    plt.imshow(scale_img(im1[0]))\n",
    "    plt.subplot(4,3,(k*3)+2)\n",
    "    \n",
    "    if distances[0]<=distances[1]:\n",
    "        plt.imshow(scale_img(im2[0]))\n",
    "        plt.subplot(4,3,(k*3)+3)\n",
    "        plt.imshow(scale_img(im3[0]))\n",
    "    else:\n",
    "        plt.imshow(scale_img(im3[0]))\n",
    "        plt.subplot(4,3,(k*3)+3)\n",
    "        plt.imshow(scale_img(im2[0]))\n",
    "        \n",
    "    if k == 0:\n",
    "        plt.subplot(4,3,(k*3)+1)\n",
    "        plt.title('input 1')\n",
    "        plt.subplot(4,3,(k*3)+2)\n",
    "        plt.title('more similar to input 1')\n",
    "        plt.subplot(4,3,(k*3)+3)\n",
    "        plt.title('less similar to input 1')\n",
    "        plt.show()\n",
    "#plt.savefig('example.png')"
   ]
  }
 ],
 "metadata": {
  "kernelspec": {
   "display_name": "Python 3",
   "language": "python",
   "name": "python3"
  },
  "language_info": {
   "codemirror_mode": {
    "name": "ipython",
    "version": 3
   },
   "file_extension": ".py",
   "mimetype": "text/x-python",
   "name": "python",
   "nbconvert_exporter": "python",
   "pygments_lexer": "ipython3",
   "version": "3.6.7"
  }
 },
 "nbformat": 4,
 "nbformat_minor": 2
}
